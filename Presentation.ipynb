{
 "cells": [
  {
   "cell_type": "markdown",
   "metadata": {},
   "source": [
    "# Protocols\n",
    "![An image of the definition of a protocol, especially: a code presecribing strict adherence to correct etiquette and precedence.](protocol.png)\n",
    "<center>Web Protocols</center>"
   ]
  },
  {
   "cell_type": "markdown",
   "metadata": {},
   "source": [
    "## Outline\n",
    "\n",
    "### Course\n",
    "\n",
    "<table border=\"1\">\n",
    "<tbody>\n",
    "<tr>\n",
    "<td style=\"text-align: center;\"><strong>Week</strong></td>\n",
    "<td style=\"text-align: center;\"><strong>Topic(s)</strong></td>\n",
    "<td><strong>Assignment</strong></td>\n",
    "</tr>\n",
    "<tr>\n",
    "<td style=\"text-align: center;\"><strong>1</strong></td>\n",
    "<td style=\"text-align: left;\">\n",
    "<p>&nbsp;TCP/IP and Sockets</p>\n",
    "</td>\n",
    "<td style=\"text-align: center;\">1</td>\n",
    "</tr>\n",
    "<tr style=\"color:red;font-weight:bold\">\n",
    "<td style=\"text-align: center;\"><strong>2</strong></td>\n",
    "<td style=\"text-align: left;\">\n",
    "<p>Web Protocols</p>\n",
    "</td>\n",
    "<td style=\"text-align: center;\">2</td>\n",
    "</tr>\n",
    "<tr>\n",
    "<td style=\"text-align: center;\"><strong>3</strong></td>\n",
    "<td style=\"text-align: left;\">\n",
    "<p>CGI and WSGI<a class=\"headerlink\" title=\"Permalink to this headline\" href=\"http://uwpce-pythoncert.github.io/training.python_web/html/outline.html#session-3-cgi-and-wsgi\"></a></p>\n",
    "</td>\n",
    "<td style=\"text-align: center;\">3</td>\n",
    "</tr>\n",
    "<tr>\n",
    "<td style=\"text-align: center;\"><strong>4</strong></td>\n",
    "<td style=\"text-align: left;\">\n",
    "<p>APIs and Mashups</p>\n",
    "</td>\n",
    "<td style=\"text-align: center;\">4</td>\n",
    "</tr>\n",
    "<tr>\n",
    "<td style=\"text-align: center;\"><strong>5</strong></td>\n",
    "<td style=\"text-align: left;\">\n",
    "<p>MVC Applications and Data Persistence<a class=\"headerlink\" title=\"Permalink to this headline\" href=\"http://uwpce-pythoncert.github.io/training.python_web/html/outline.html#session-5-mvc-applications-and-data-persistence\"></a></p>\n",
    "</td>\n",
    "<td style=\"text-align: center;\">5</td>\n",
    "</tr>\n",
    "<tr>\n",
    "<td style=\"text-align: center;\"><strong>6</strong></td>\n",
    "<td style=\"text-align: left;\">\n",
    "<p>Pyramid Views, Renderers and Forms</p>\n",
    "</td>\n",
    "<td style=\"text-align: center;\">6</td>\n",
    "</tr>\n",
    "<tr>\n",
    "<td style=\"text-align: center;\"><strong>7</strong></td>\n",
    "<td style=\"text-align: left;\">\n",
    "<p>Pyramid Authentication and Deployment</p>\n",
    "</td>\n",
    "<td style=\"text-align: center;\">7</td>\n",
    "</tr>\n",
    "<tr>\n",
    "<td style=\"text-align: center;\"><strong>8</strong></td>\n",
    "<td style=\"text-align: left;\">\n",
    "<p>Basic Django</p>\n",
    "</td>\n",
    "<td style=\"text-align: center;\">8</td>\n",
    "</tr>\n",
    "<tr>\n",
    "<td style=\"text-align: center;\"><strong>9</strong></td>\n",
    "<td style=\"text-align: left;\">\n",
    "<p>Extending Django</p>\n",
    "</td>\n",
    "<td style=\"text-align: center;\">9</td>\n",
    "</tr>\n",
    "<tr>\n",
    "<td style=\"text-align: center;\">\n",
    "<p><strong>10</strong></p>\n",
    "</td>\n",
    "<td style=\"text-align: left;\">\n",
    "<p>Deploying Django</p>\n",
    "</td>\n",
    "<td style=\"text-align: center;\">Final Project</td>\n",
    "</tr>\n",
    "</tbody>\n",
    "</table>\n",
    "\n",
    "### Today\n",
    "\n",
    "  1. Review of last week\n",
    "  2. Review of homework\n",
    "  3. Overview/Examples of protocols\n",
    "  4. Interacting with an email server\n",
    "  5. Creating a very crummy HTTP server\n",
    "    1. Make it talk HTTP\n",
    "    2. Make it not crash all the time\n",
    "  6. Homework"
   ]
  },
  {
   "cell_type": "markdown",
   "metadata": {},
   "source": [
    "## Overview/Outline\n",
    "\n",
    "Programming languages like Python are the languages we speak to computers.\n",
    "\n",
    "Protocols are the languages that computers speak to each-other.\n",
    "\n",
    "This session we’ll look at a few of them and\n",
    "\n",
    "  * Learn what makes them similar\n",
    "  * Learn what makes them different\n",
    "  * Learn about Python’s tools for speaking them\n",
    "  * Learn how to speak one (HTTP) ourselves"
   ]
  },
  {
   "cell_type": "markdown",
   "metadata": {},
   "source": [
    "## Review\n",
    "\n",
    "Questions from the Homework?\n",
    "\n",
    "Examples of an echo server using select"
   ]
  },
  {
   "cell_type": "markdown",
   "metadata": {},
   "source": [
    "## What Is A Protocol?\n",
    "\n",
    "** a set of rules or conventions **\n",
    "\n",
    "** governing communications **\n",
    "\n",
    "Life has lots of sets of rules for how to do things:\n",
    "\n",
    "  * What do you say when you get on the elevator?\n",
    "  * What do you do on a first date?\n",
    "  * What do you wear to a job interview?\n",
    "  * What do (and don’t) you talk about at a dinner party?\n",
    "  * ...?\n",
    "  \n",
    "  ![An image describing how men choose urinals in the bathroom.](icup.png)\n",
    "<center>http://blog.xkcd.com/2009/09/02/urinal-protocol-vulnerability/</center>\n",
    "\n",
    "Digital life has lots of rules too:\n",
    "\n",
    "  * how to say hello\n",
    "  * how to identify yourself\n",
    "  * how to ask for information\n",
    "  * how to provide answers\n",
    "  * how to say goodbye"
   ]
  },
  {
   "cell_type": "markdown",
   "metadata": {
    "collapsed": true
   },
   "source": [
    "## Real Protocol Examples\n",
    "\n",
    "What does this look like in practice?\n",
    "\n",
    "  * SMTP (Simple Message Transfer Protocol) \n",
    "    http://tools.ietf.org/html/rfc5321#appendix-D\n",
    "  * POP3 (Post Office Protocol) \n",
    "    http://www.faqs.org/docs/artu/ch05s03.html\n",
    "  * IMAP (Internet Message Access Protocol) \n",
    "    http://www.faqs.org/docs/artu/ch05s03.html\n",
    "  * HTTP (Hyper-Text Transfer Protocol) \n",
    "    http://en.wikipedia.org/wiki/Hypertext_Transfer_Protocol\n",
    "    \n",
    "Over the next few slides we’ll be looking at server/client interactions.\n",
    "\n",
    "Each interaction is line-based, each line represents one message.\n",
    "\n",
    "Messages from the Server to the Client are prefaced with S (<--)\n",
    "\n",
    "Messages from the Client to the Server are prefaced with C (-->)\n",
    "\n",
    "**All** lines end with the character sequence `<CRLF>` (`\\r\\n`)"
   ]
  },
  {
   "cell_type": "markdown",
   "metadata": {},
   "source": [
    "### SMTP (Simple Mail Transfer Protocol)\n",
    "\n",
    "Say hello and identify yourself:\n",
    "```\n",
    "    S (<--): 220 example.com Simple Mail Transfer Service Ready\n",
    "    C (-->): EHLO example.com\n",
    "    S (<--): 250-foo.com greets example.com\n",
    "    S (<--): 250-8BITMIME\n",
    "    S (<--): 250-SIZE\n",
    "    S (<--): 250-DSN\n",
    "    S (<--): 250 HELP\n",
    "```\n",
    "\n",
    "Ask for information, provide answers:\n",
    "```\n",
    "    C (-->): MAIL FROM:<bob@example.com>\n",
    "    S (<--): 250 OK\n",
    "    C (-->): RCPT TO:<alice@example.com>\n",
    "    S (<--): 250 OK\n",
    "    C (-->): RCPT TO:<theboss@example.com>\n",
    "    S (<--): 550 No such user here\n",
    "    C (-->): DATA\n",
    "    S (<--): 354 Start mail input; end with <CRLF>.<CRLF>\n",
    "    C (-->): From: \"Bob Example\" <bob@example.com>\n",
    "    C (-->): To: \"Alice Example\" <alice@example.com>\n",
    "    C (-->): Cc: theboss@example.com\n",
    "    C (-->): Date: Tue, 15 January 2008 16:02:43 -0500\n",
    "    C (-->): Subject: Test message\n",
    "    C (-->): \n",
    "    C (-->): Hello Alice.\n",
    "    C (-->): This is a test message with 5 header fields and 4 lines in the message body.\n",
    "    C (-->): Your friend,\n",
    "    C (-->): Bob\n",
    "    C (-->): .\n",
    "    S (<--): 250 OK\n",
    "```\n",
    "\n",
    "Say goodbye:\n",
    "```\n",
    "    C (-->): QUIT\n",
    "    S (<--): 221 foo.com Service closing transmission channel\n",
    "```\n",
    "\n",
    "  * Interaction consists of commands and replies\n",
    "  * Each command or reply is one line terminated by `<CRLF>`\n",
    "    * (there are exceptions, see the 250 reply to EHLO above)\n",
    "  * The exception is message payload, terminated by `<CRLF>.<CRLF>`\n",
    "  * Each command has a verb and one or more arguments\n",
    "  * Each reply has a formal code and an informal explanation"
   ]
  },
  {
   "cell_type": "markdown",
   "metadata": {},
   "source": [
    "### POP3\n",
    "\n",
    "Say hello and identify yourself:\n",
    "```\n",
    "    C (-->): <client connects to service port 110>\n",
    "    S (<--): +OK POP3 server ready <1896.6971@mailgate.dobbs.org>\n",
    "    C (-->): USER bob\n",
    "    S (<--): +OK bob\n",
    "    C (-->): PASS redqueen\n",
    "    S (<--): +OK bob's maildrop has 2 messages (320 octets)\n",
    "```\n",
    "\n",
    "Ask for information, provide answers:\n",
    "```\n",
    "    C (-->): STAT\n",
    "    S (<--): +OK 2 320\n",
    "    C (-->): LIST\n",
    "    S (<--): +OK 1 messages (120 octets)\n",
    "    S (<--): 1 120\n",
    "    S (<--): .\n",
    "```\n",
    "\n",
    "Ask for information, provide answers:\n",
    "```\n",
    "    C (-->): RETR 1\n",
    "    S (<--): +OK 120 octets\n",
    "    S (<--): <server sends the text of message 1>\n",
    "    S (<--): .\n",
    "    C (-->): DELE 1\n",
    "    S (<--): +OK message 1 deleted\n",
    "```\n",
    "\n",
    "Say goodbye:\n",
    "```\n",
    "    C (-->): QUIT\n",
    "    S (<--): +OK dewey POP3 server signing off (maildrop empty)\n",
    "    C (-->): <client hangs up>\n",
    "```\n",
    "\n",
    "   * Interaction consists of commands and replies\n",
    "   * Each command or reply is one line terminated by `<CRLF>`\n",
    "   * The exception is message payload, terminated by `<CRLF>.<CRLF>`\n",
    "   * Each command has a verb and one or more arguments\n",
    "   * Each reply has a formal code and an informal explanation\n",
    "\n",
    "The codes don’t really look the same, though, do they?\n",
    "\n",
    "The exception to the one-line-per-message rule is *payload*.\n",
    "\n",
    "In both SMTP and POP3 this is terminated by `<CRLF>.<CRLF>`\n",
    "\n",
    "In SMTP, the client has this ability\n",
    "\n",
    "But in POP3, it belongs to the server.\n",
    "\n",
    "<center>Why?</center>"
   ]
  },
  {
   "cell_type": "markdown",
   "metadata": {},
   "source": [
    "### IMAP\n",
    "\n",
    "Say hello and identify yourself:\n",
    "```\n",
    "    C (-->): <client connects to service port 143>\n",
    "    S (<--): * OK example.com IMAP4rev1 v12.264 server ready\n",
    "    C (-->): A0001 USER \"frobozz\" \"xyzzy\"\n",
    "    S (<--): * OK User frobozz authenticated\n",
    "```\n",
    "\n",
    "Ask for information, provide answers (connect to an inbox):\n",
    "```\n",
    "    C (-->): A0002 SELECT INBOX\n",
    "    S (<--): * 1 EXISTS\n",
    "    S (<--): * 1 RECENT\n",
    "    S (<--): * FLAGS (\\Answered \\Flagged \\Deleted \\Draft \\Seen)\n",
    "    S (<--): * OK [UNSEEN 1] first unseen message in /var/spool/mail/esr\n",
    "    S (<--): A0002 OK [READ-WRITE] SELECT completed\n",
    "```\n",
    "\n",
    "Ask for information, provide answers (get message sizes):\n",
    "```\n",
    "    C (-->): A0003 FETCH 1 RFC822.SIZE\n",
    "    S (<--): * 1 FETCH (RFC822.SIZE 2545)\n",
    "    S (<--): A0003 OK FETCH completed\n",
    "```\n",
    "\n",
    "Ask for information, provide answers (get first message header):\n",
    "```\n",
    "    C (-->): A0004 FETCH 1 BODY[HEADER]\n",
    "    S (<--): * 1 FETCH (RFC822.HEADER {1425}\n",
    "    <server sends 1425 octets of message payload>\n",
    "    S (<--): )\n",
    "    S (<--): A0004 OK FETCH completed\n",
    "```\n",
    "\n",
    "Ask for information, provide answers (Get first message body):\n",
    "```\n",
    "    C (-->): A0005 FETCH 1 BODY[TEXT]\n",
    "    S (<--): * 1 FETCH (BODY[TEXT] {1120}\n",
    "    <server sends 1120 octets of message payload>\n",
    "    S (<--): )\n",
    "    S (<--): * 1 FETCH (FLAGS (\\Recent \\Seen))\n",
    "    S (<--): A0005 OK FETCH completed\n",
    "```\n",
    "\n",
    "Say goodbye:\n",
    "```\n",
    "    C (-->): A0006 LOGOUT\n",
    "    S (<--): * BYE example.com IMAP4rev1 server terminating connection\n",
    "    S (<--): A0006 OK LOGOUT completed\n",
    "    C (-->): <client hangs up>\n",
    "```\n",
    "\n",
    "  * Interaction consists of commands and replies\n",
    "  * Each command or reply is one line terminated by `<CRLF>`\n",
    "  * Each command has a verb and one or more arguments\n",
    "  * Each reply has a formal code and an informal explanation\n",
    "\n",
    "  * Commands and replies are prefixed by ‘sequence identifier’\n",
    "  * Payloads are prefixed by message size, rather than terminated by reserved sequence\n",
    "\n",
    "Compared with POP3, what do these differences suggest?\n",
    "  "
   ]
  },
  {
   "cell_type": "markdown",
   "metadata": {},
   "source": [
    "### Using IMAP in Python\n",
    "\n",
    "Let's try this out for ourselves!\n",
    "\n",
    "Fire up your python interpreters and prepare to type.\n",
    "\n",
    "Begin by importing the `imaplib` module from the Python Standard Library."
   ]
  },
  {
   "cell_type": "code",
   "execution_count": 4,
   "metadata": {
    "collapsed": false
   },
   "outputs": [],
   "source": [
    "import imaplib"
   ]
  },
  {
   "cell_type": "markdown",
   "metadata": {},
   "source": [
    "This library has several features that we might find useful:"
   ]
  },
  {
   "cell_type": "code",
   "execution_count": 5,
   "metadata": {
    "collapsed": false
   },
   "outputs": [
    {
     "data": {
      "text/plain": [
       "['AllowedVersions',\n",
       " 'CRLF',\n",
       " 'Commands',\n",
       " 'Continuation',\n",
       " 'DEFAULT_BUFFER_SIZE',\n",
       " 'Debug',\n",
       " 'Flags',\n",
       " 'HAVE_SSL',\n",
       " 'IMAP4',\n",
       " 'IMAP4_PORT',\n",
       " 'IMAP4_SSL',\n",
       " 'IMAP4_SSL_PORT',\n",
       " 'IMAP4_stream',\n",
       " 'Int2AP',\n",
       " 'InternalDate',\n",
       " 'Internaldate2tuple',\n",
       " 'Literal',\n",
       " 'MapCRLF',\n",
       " 'Mon2num',\n",
       " 'Months',\n",
       " 'ParseFlags',\n",
       " 'Response_code',\n",
       " 'Time2Internaldate',\n",
       " 'Untagged_response',\n",
       " 'Untagged_status',\n",
       " '_Authenticator',\n",
       " '_Literal',\n",
       " '_MAXLINE',\n",
       " '_Untagged_status',\n",
       " '__all__',\n",
       " '__builtins__',\n",
       " '__cached__',\n",
       " '__doc__',\n",
       " '__file__',\n",
       " '__loader__',\n",
       " '__name__',\n",
       " '__package__',\n",
       " '__spec__',\n",
       " '__version__',\n",
       " 'binascii',\n",
       " 'calendar',\n",
       " 'datetime',\n",
       " 'errno',\n",
       " 'random',\n",
       " 're',\n",
       " 'socket',\n",
       " 'ssl',\n",
       " 'subprocess',\n",
       " 'sys',\n",
       " 'time',\n",
       " 'timedelta',\n",
       " 'timezone']"
      ]
     },
     "execution_count": 5,
     "metadata": {},
     "output_type": "execute_result"
    }
   ],
   "source": [
    "dir(imaplib)"
   ]
  },
  {
   "cell_type": "markdown",
   "metadata": {},
   "source": [
    "Setting imaplib.Debug shows us what is sent and received."
   ]
  },
  {
   "cell_type": "code",
   "execution_count": 6,
   "metadata": {
    "collapsed": true
   },
   "outputs": [],
   "source": [
    "imaplib.Debug = 4"
   ]
  },
  {
   "cell_type": "markdown",
   "metadata": {
    "collapsed": true
   },
   "source": [
    "I've preared a server for us to use, but we'll need to set up a client to speak to it.\n",
    "\n",
    "Our server requires SSL (Secure Socket Layer) for connecting to IMAP servers, so let's initialize an IMAP4_SSL client and authenticate:"
   ]
  },
  {
   "cell_type": "code",
   "execution_count": 18,
   "metadata": {
    "collapsed": false
   },
   "outputs": [
    {
     "name": "stderr",
     "output_type": "stream",
     "text": [
      "  54:21.19 imaplib version 2.58\n",
      "  54:21.19 new IMAP4 connection, tag=b'LFGO'\n",
      "  54:21.32 < b'* OK IMAP4 ready'\n",
      "  54:21.32 > b'LFGO0 CAPABILITY'\n",
      "  54:21.41 < b'* CAPABILITY IMAP4rev1 UIDPLUS ID NAMESPACE LOGIN-REFERRALS IDLE STARTTLS AUTH=XAOL-UAS-MB AUTH=XOAUTH2'\n",
      "  54:21.41 < b'LFGO0 OK completed'\n",
      "  54:21.41 CAPABILITIES: ('IMAP4REV1', 'UIDPLUS', 'ID', 'NAMESPACE', 'LOGIN-REFERRALS', 'IDLE', 'STARTTLS', 'AUTH=XAOL-UAS-MB', 'AUTH=XOAUTH2')\n"
     ]
    }
   ],
   "source": [
    "conn = imaplib.IMAP4_SSL('imap.aol.com')"
   ]
  },
  {
   "cell_type": "code",
   "execution_count": 19,
   "metadata": {
    "collapsed": false
   },
   "outputs": [
    {
     "name": "stderr",
     "output_type": "stream",
     "text": [
      "  54:29.03 > b'LFGO1 LOGIN joseph.schilz \"jYMohl56Of\"'\n",
      "  54:29.39 < b'* CAPABILITY IMAP4rev1 APPENDLIMIT=36700160 BINARY CATENATE CHILDREN ESEARCH ID IDLE LITERAL+ LOGIN-REFERRALS NAMESPACE QUOTA SASL-IR UIDPLUS UNSELECT WITHIN XAOL-MOVE XAOL.SPAM.REASON XAOL-MSGID XAPPLEPUSHSERVICE MOVE REPLACE'\n",
      "  54:29.39 < b'LFGO1 OK LOGIN completed'\n"
     ]
    },
    {
     "data": {
      "text/plain": [
       "('OK', [b'LOGIN completed'])"
      ]
     },
     "execution_count": 19,
     "metadata": {},
     "output_type": "execute_result"
    }
   ],
   "source": [
    "conn.login('joseph.schilz', 'jYMohl56Of')"
   ]
  },
  {
   "cell_type": "code",
   "execution_count": 23,
   "metadata": {
    "collapsed": false
   },
   "outputs": [
    {
     "name": "stderr",
     "output_type": "stream",
     "text": [
      "  55:50.88 > b'LFGO2 SELECT INBOX'\n",
      "  55:51.00 < b'* 1 EXISTS'\n",
      "  55:51.00 < b'* 0 RECENT'\n",
      "  55:51.00 < b'* OK [UIDVALIDITY 1] UID validity status'\n",
      "  55:51.00 < b'* OK [UIDNEXT 258] predicted next UID'\n",
      "  55:51.00 < b'* FLAGS ($Submitted $XAOL-SENT \\\\Answered \\\\Deleted \\\\Draft \\\\Flagged \\\\Seen $Forwarded $MDNSent Forwarded XAOL-CLIENT-BULK XAOL-RECEIVED XAOL-VOICEMAIL XAOL-GOOD XAOL-GOODCHECK-DONE XAOL-OFFICIAL-MAIL XAOL-CERTIFIED-MAIL XAOL-PRIORITY-MAIL XAOL-READ $hasAttached $hasEmbedded $Aggregated)'\n",
      "  55:51.00 < b'* OK [PERMANENTFLAGS (\\\\Answered \\\\Deleted \\\\Draft \\\\Flagged \\\\Seen $Forwarded $MDNSent Forwarded XAOL-GOOD XAOL-GOODCHECK-DONE)] Permanent flags'\n",
      "  55:51.00 < b'LFGO2 OK [READ-WRITE] SELECT completed'\n"
     ]
    },
    {
     "data": {
      "text/plain": [
       "('OK', [b'1'])"
      ]
     },
     "execution_count": 23,
     "metadata": {},
     "output_type": "execute_result"
    }
   ],
   "source": [
    "conn.select('INBOX')"
   ]
  },
  {
   "cell_type": "code",
   "execution_count": 27,
   "metadata": {
    "collapsed": false
   },
   "outputs": [
    {
     "name": "stderr",
     "output_type": "stream",
     "text": [
      "  59:31.36 > b'LFGO6 SEARCH (FROM \"joseph\")'\n",
      "  59:31.63 < b'* SEARCH 2'\n",
      "  59:31.63 < b'* 2 EXISTS'\n",
      "  59:31.63 < b'LFGO6 OK SEARCH completed'\n"
     ]
    },
    {
     "data": {
      "text/plain": [
       "('OK', [b'2'])"
      ]
     },
     "execution_count": 27,
     "metadata": {},
     "output_type": "execute_result"
    }
   ],
   "source": [
    "conn.search(None, '(FROM \"joseph\")')"
   ]
  },
  {
   "cell_type": "code",
   "execution_count": 33,
   "metadata": {
    "collapsed": false
   },
   "outputs": [
    {
     "name": "stderr",
     "output_type": "stream",
     "text": [
      "  00:47.60 > b'LFGO12 FETCH 2 BODY[HEADER]'\n",
      "  00:47.69 < b'* 2 FETCH (BODY[HEADER] {1253}'\n",
      "  00:47.69 read literal size 1253\n",
      "  00:47.69 < b')'\n",
      "  00:47.69 < b'LFGO12 OK FETCH completed'\n"
     ]
    },
    {
     "data": {
      "text/plain": [
       "('OK',\n",
       " [(b'2 (BODY[HEADER] {1253}',\n",
       "   b'Return-Path: <joseph.schilz@aol.com>\\r\\nReceived: from core-lea01b.mail.aol.com (core-lea01.mail.aol.com [10.76.11.1])\\r\\n\\tby mtaomg-mcc02.mx.aol.com (OMAG/Core Interface) with ESMTP id BD6813800008E\\r\\n\\tfor <joseph.schilz@aol.com>; Thu,  7 Apr 2016 13:59:22 -0400 (EDT)\\r\\nReceived: from 128.95.239.95 by webprd-a58.mail.aol.com (10.72.57.65) with HTTP (WebMailUI); Thu, 07 Apr 2016 13:59:22 -0400\\r\\nDate: Thu, 7 Apr 2016 13:59:22 -0400\\r\\nFrom: joseph.schilz@aol.com\\r\\nTo: joseph.schilz@aol.com\\r\\nMessage-Id: <153f1e0e9d1-4911-15bce@webprd-a58.mail.aol.com>\\r\\nSubject: Hello Joe!\\r\\nMIME-Version: 1.0\\r\\nContent-Type: multipart/alternative; \\r\\n\\tboundary=\"----=_Part_111840_263897238.1460051962317\"\\r\\nX-MB-Message-Source: WebUI\\r\\nX-MB-Message-Type: User\\r\\nX-Mailer: JAS STD\\r\\nX-Originating-IP: [128.95.239.95]\\r\\nx-aol-global-disposition: G\\r\\nDKIM-Signature: v=1; a=rsa-sha256; c=relaxed/relaxed; d=mx.aol.com;\\r\\n\\ts=20150623; t=1460051962;\\r\\n\\tbh=JbrlUvVna+ueX/+oDJR8AMNApPEEy4Y/wdQjgzJmAq8=;\\r\\n\\th=From:To:Subject:Message-Id:Date:MIME-Version:Content-Type;\\r\\n\\tb=y+F5sabEFYojeqUbAJadj4pqARK3BgmhD1/cLvF+Ph3LDJFAxoM0m6k4GZGcJ4Lx0\\r\\n\\t sadRwpsi95RM01y7NKR0yWh0xlRDP2HnI72Ykyzs2Ag1XMZXphad3UL4vXB67habJx\\r\\n\\t i+ox1o2bzppgz65oW2gDGzNXjxE9yCtT5JwCqRgA=\\r\\nx-aol-sid: 3039ac1afd5057069ffa60ce\\r\\n\\r\\n'),\n",
       "  b')'])"
      ]
     },
     "execution_count": 33,
     "metadata": {},
     "output_type": "execute_result"
    }
   ],
   "source": [
    "conn.fetch('2', 'BODY[HEADER]')"
   ]
  },
  {
   "cell_type": "code",
   "execution_count": 31,
   "metadata": {
    "collapsed": false
   },
   "outputs": [
    {
     "name": "stderr",
     "output_type": "stream",
     "text": [
      "  00:23.26 > b'LFGO10 FETCH 2 FLAGS'\n",
      "  00:23.36 < b'* 2 FETCH (FLAGS (XAOL-GOODCHECK-DONE))'\n",
      "  00:23.36 < b'LFGO10 OK FETCH completed'\n"
     ]
    },
    {
     "data": {
      "text/plain": [
       "('OK', [b'2 (FLAGS (XAOL-GOODCHECK-DONE))'])"
      ]
     },
     "execution_count": 31,
     "metadata": {},
     "output_type": "execute_result"
    }
   ],
   "source": [
    "conn.fetch('2', 'FLAGS')"
   ]
  },
  {
   "cell_type": "code",
   "execution_count": 32,
   "metadata": {
    "collapsed": false
   },
   "outputs": [
    {
     "name": "stderr",
     "output_type": "stream",
     "text": [
      "  00:34.09 > b'LFGO11 FETCH 2 BODY[TEXT]'\n",
      "  00:34.28 < b'* 2 FETCH (BODY[TEXT] {383}'\n",
      "  00:34.29 read literal size 383\n",
      "  00:34.29 < b')'\n",
      "  00:34.29 < b'* 2 FETCH (FLAGS (\\\\Seen XAOL-GOODCHECK-DONE XAOL-READ))'\n",
      "  00:34.29 < b'LFGO11 OK FETCH completed'\n"
     ]
    },
    {
     "data": {
      "text/plain": [
       "('OK',\n",
       " [(b'2 (BODY[TEXT] {383}',\n",
       "   b\"------=_Part_111840_263897238.1460051962317\\r\\nContent-Type: text/plain; charset=utf-8\\r\\nContent-Transfer-Encoding: 7bit\\r\\n\\r\\nEvery day is special!\\r\\n------=_Part_111840_263897238.1460051962317\\r\\nContent-Type: text/html; charset=utf-8\\r\\nContent-Transfer-Encoding: 7bit\\r\\n\\r\\n<font color='black' size='2' face='arial'>Every day is special!</font>\\r\\n------=_Part_111840_263897238.1460051962317--\\r\\n\"),\n",
       "  b')',\n",
       "  b'2 (FLAGS (\\\\Seen XAOL-GOODCHECK-DONE XAOL-READ))'])"
      ]
     },
     "execution_count": 32,
     "metadata": {},
     "output_type": "execute_result"
    }
   ],
   "source": [
    "conn.fetch('2', 'BODY[TEXT]')"
   ]
  },
  {
   "cell_type": "markdown",
   "metadata": {},
   "source": [
    "Now let's be good citizens and close the connection!"
   ]
  },
  {
   "cell_type": "code",
   "execution_count": 34,
   "metadata": {
    "collapsed": false
   },
   "outputs": [
    {
     "name": "stderr",
     "output_type": "stream",
     "text": [
      "  01:43.22 > b'LFGO13 CLOSE'\n",
      "  01:43.33 < b'LFGO13 OK CLOSE completed'\n"
     ]
    },
    {
     "data": {
      "text/plain": [
       "('OK', [b'CLOSE completed'])"
      ]
     },
     "execution_count": 34,
     "metadata": {},
     "output_type": "execute_result"
    }
   ],
   "source": [
    "conn.close()"
   ]
  },
  {
   "cell_type": "markdown",
   "metadata": {},
   "source": [
    "What does the message say?\n",
    "\n",
    "Python even includes an *email* library that would allow us to interact with this message in an object-oriented style.\n",
    "\n",
    "Neat, huh?"
   ]
  },
  {
   "cell_type": "markdown",
   "metadata": {},
   "source": [
    "### Summary\n",
    "\n",
    "  * Protocols are just a set of rules for how to communicate\n",
    "  * Protocols tell us how to parse and delimit messages\n",
    "  * Protocols tell us what messages are valid\n",
    "  * If we properly format request messages to a server, we can get response messages\n",
    "  * Python supports a number of these protocols\n",
    "  * So we don’t have to remember how to format the commands ourselves\n",
    "  * But in every case we’ve seen, we could do the same thing with a socket and some strings"
   ]
  },
  {
   "cell_type": "markdown",
   "metadata": {},
   "source": [
    "### Break Time?\n",
    "\n",
    "Let's take a few minutes here to clear our heads.\n",
    "\n",
    "When we return, we'll learn about the monarch of protocols: HTTP"
   ]
  },
  {
   "cell_type": "markdown",
   "metadata": {},
   "source": [
    "### HTTP\n",
    "\n",
    "HTTP is no different from the protocols we've explored above.\n",
    "\n",
    "HTTP is also message-centered, with two-way communications:\n",
    "\n",
    "  * Requests (asking for information)\n",
    "  * Responses (providing answers)\n",
    "  "
   ]
  },
  {
   "cell_type": "markdown",
   "metadata": {},
   "source": [
    "#### Request\n",
    "\n",
    "Ask for information:\n",
    "```\n",
    "GET /index.html HTTP/1.1\n",
    "Host: www.example.com\n",
    "\n",
    "```\n",
    "\n",
    "All lines in HTTP are to be terminated with a `<CRLF>`. The Python string-literal representation of a `<CRLF>` is `\"\\r\\n\"`.\n",
    "\n",
    "Thus, the string literal representation of our request is:\n",
    "\n",
    "`b'GET /index.html HTTP/1.1\\r\\nHost: www.example.com\\r\\n\\r\\n'`\n",
    "\n",
    "We'll write the `<CRLF>` explicitly to remind ourselves that there is a CRLF at the end of each line, but remember that `<CRLF>` represents the whitespace characters `'\\r\\n'`!\n",
    "\n",
    "Using `<CRLF>`, we can write our request as:\n",
    "```\n",
    "GET /index.html HTTP/1.1<CRLF>\n",
    "Host: www.example.com<CRLF>\n",
    "<CRLF>\n",
    "```"
   ]
  },
  {
   "cell_type": "markdown",
   "metadata": {},
   "source": [
    "#### Response\n",
    "\n",
    "Provide answers:\n",
    "```\n",
    "HTTP/1.1 200 OK<CRLF>\n",
    "Date: Mon, 23 May 2005 22:38:34 GMT<CRLF>\n",
    "Server: Apache/1.3.3.7 (Unix) (Red-Hat/Linux)<CRLF>\n",
    "Last-Modified: Wed, 08 Jan 2003 23:11:55 GMT<CRLF>\n",
    "Etag: \"3f80f-1b6-3e1cb03b\"<CRLF>\n",
    "Accept-Ranges:  none<CRLF>\n",
    "Content-Length: 438<CRLF>\n",
    "Connection: close<CRLF>\n",
    "Content-Type: text/html; charset=UTF-8<CRLF>\n",
    "<CRLF>\n",
    "<!DOCTYPE html>\\n<html>\\n  <head>\\n    <title>This is a .... </html><CRLF>\n",
    "```\n",
    "\n",
    "Pay particular attention to the `<CRLF>` on a line by itself.\n",
    "\n",
    "In HTTP, both request and response share a common basic format:\n",
    "\n",
    "  * Line separators are `<CRLF>` (familiar, no?)\n",
    "  * A required initial line (a command or a response code)\n",
    "  * A (mostly) optional set of headers, one per line\n",
    "  * A blank line\n",
    "  * An optional body"
   ]
  },
  {
   "cell_type": "markdown",
   "metadata": {},
   "source": [
    "### Implementing HTTP\n",
    "\n",
    "Let's investigate the HTTP protocol a bit in real life.\n",
    "\n",
    "We'll do so by building a simplified HTTP server, one step at a time.\n",
    "\n",
    "There is a copy of the echo server from last time in resources/session02. It’s called http_server.py.\n",
    "\n",
    "In a terminal, move into that directory. We’ll be doing our work here for the rest of the session\n",
    "\n",
    "Test Driven Development (TDD) is all the rage these days.\n",
    "\n",
    "It means that before you write code, you first write tests demonstrating what you want your code to do.\n",
    "\n",
    "When all your tests pass, you are finished. You did this for your last assignment.\n",
    "\n",
    "We’ll be doing it again today.\n",
    "\n",
    "From inside resources/session02 start a second python interpreter and run $ python http_server.py\n",
    "\n",
    "In your first interpreter run the tests. You should see similar output:\n"
   ]
  },
  {
   "cell_type": "markdown",
   "metadata": {},
   "source": [
    "```\n",
    "$ python tests.py\n",
    "[...]\n",
    "Ran 10 tests in 0.054s\n",
    "\n",
    "FAILED (failures=3, errors=7)\n",
    "```"
   ]
  },
  {
   "cell_type": "markdown",
   "metadata": {},
   "source": [
    "Let’s take a few minutes here to look at these tests and understand them.\n",
    "\n",
    "Our job is to make all those tests pass.\n",
    "\n",
    "First, though, let’s pretend this server really is a functional HTTP server.\n",
    "\n",
    "This time, instead of using the echo client to make a connection to the server, let’s use a web browser!\n",
    "\n",
    "Point your favorite browser at http://localhost:10000\n",
    "\n",
    "First, look at the printed output from your echo server.\n",
    "\n",
    "Second, note that your browser is still waiting to finish loading the page\n",
    "\n",
    "Moreover, your server should also be hung, waiting for more from the ‘client’\n",
    "\n",
    "This is because the server is waiting for the browser to respond\n",
    "\n",
    "And at the same time, the browser is waiting for the server to indicate it is done.\n",
    "\n",
    "Our server does not yet speak the HTTP protocol, but the browser is expecting it.\n",
    "\n",
    "Kill your server with ctrl-c (the keyboard interrupt) and you should see some printed content in your browser:\n",
    "\n",
    "```\n",
    "GET / HTTP/1.1\n",
    "Host: localhost:10000\n",
    "User-Agent: Mozilla/5.0 (Macintosh; Intel Mac OS X 10.6; rv:22.0) Gecko/20100101 Firefox/22.0\n",
    "Accept: text/html,application/xhtml+xml,application/xml;q=0.9,*/*;q=0.8\n",
    "Accept-Language: en-US,en;q=0.5\n",
    "Accept-Encoding: gzip, deflate\n",
    "DNT: 1\n",
    "Cookie: __utma=111872281.383966302.1364503233.1364503233.1364503233.1; __utmz=111872281.1364503233.1.1.utmcsr=(direct)|utmccn=(direct)|utmcmd=(none); csrftoken=uiqj579iGRbReBHmJQNTH8PFfAz2qRJS\n",
    "Connection: keep-alive\n",
    "Cache-Control: max-age=0\n",
    "```"
   ]
  },
  {
   "cell_type": "markdown",
   "metadata": {},
   "source": [
    "Your server is simply echoing what it receives, so this is an HTTP Request as sent by your browser.\n",
    "\n",
    "When working on HTTP applications, it’s nice to be able to see all this going back and forth.\n",
    "\n",
    "Good browsers support this with a set of developer tools built-in.\n",
    "\n",
    "  * firefox -> ctrl-shift-K or cmd-opt-K (os X)\n",
    "  * safari -> enable in preferences:advanced then cmd-opt-i\n",
    "  * chrome -> ctrl-shift-i or cmd-opt-i (os X)\n",
    "  * IE (7.0+) -> F12 or tools menu -> developer tools\n",
    "  \n",
    "**Let's take a quick look!**"
   ]
  },
  {
   "cell_type": "markdown",
   "metadata": {},
   "source": [
    "Sometimes you need or want to debug http requests that are not going through your browser.\n",
    "\n",
    "Or perhaps you need functionality that is not supported by in-browser tools (request munging, header mangling, decryption of https request/responses)\n",
    "\n",
    "Then it might be time for an HTTP debugging proxy:\n",
    "\n",
    "  * windows: http://www.fiddler2.com/fiddler2/\n",
    "  * win/osx/linux: http://www.charlesproxy.com/\n",
    "\n",
    "We won’t cover any of these tools here today. But you can check them out when you have the time."
   ]
  },
  {
   "cell_type": "markdown",
   "metadata": {},
   "source": [
    "### Step 1: Basic HTTP Protocol\n",
    "\n",
    "In HTTP 1.0, the only required line in an HTTP request is this:\n",
    "```\n",
    "GET /path/to/index.html HTTP/1.0<CRLF>\n",
    "<CRLF>\n",
    "```\n",
    "\n",
    "As virtual hosting grew more common, that was not enough, so HTTP 1.1 adds a single required header, Host:\n",
    "```\n",
    "GET /path/to/index.html HTTP/1.1<CRLF>\n",
    "Host: www.mysite1.com:80<CRLF>\n",
    "<CRLF>\n",
    "```\n",
    "\n",
    "In both HTTP 1.0 and 1.1, a proper response consists of an intial line, followed by optional headers, a single blank line, and then optionally a response body. The following is a pretty minimal response:\n",
    "```\n",
    "HTTP/1.1 200 OK<CRLF>\n",
    "Content-Type: text/plain<CRLF>\n",
    "<CRLF>\n",
    "```\n",
    "\n",
    "Let’s update our server to return such a response.\n",
    "\n",
    "Begin by implementing a new function in your http_server.py script called response_ok.\n",
    "\n",
    "It can be super-simple for now. We’ll improve it later.\n",
    "\n",
    "It needs to return our minimal response from above:\n",
    "```\n",
    "HTTP/1.1 200 OK<CRLF>\n",
    "Content-Type: text/plain<CRLF>\n",
    "<CRLF>\n",
    "```\n",
    "\n",
    "**Remember, `<CRLF>` is a placeholder for the \\r\\n character sequence.**"
   ]
  },
  {
   "cell_type": "markdown",
   "metadata": {},
   "source": [
    "```\n",
    "def response_ok():\n",
    "    \"\"\"returns a basic HTTP response\"\"\"\n",
    "    \n",
    "    response = b\"\\r\\n\".join([\n",
    "        b\"HTTP/1.1 200 OK\",\n",
    "        b\"Content-Type: text/plain\",\n",
    "        b\"\",\n",
    "        b\"this is a pretty minimal response\"\n",
    "    ])\n",
    "    \n",
    "    return response\n",
    "```"
   ]
  },
  {
   "cell_type": "markdown",
   "metadata": {},
   "source": [
    "Did you remember that sockets only accept bytes?\n",
    "\n",
    "We’ve now implemented a function that is tested by our tests. Let’s run them again:\n",
    "\n",
    "```\n",
    "$ python tests.py\n",
    "[...]\n",
    "----------------------------------------------------------------------\n",
    "Ran 10 tests in 0.002s\n",
    "\n",
    "FAILED (failures=3, errors=3)\n",
    "```\n",
    "\n",
    "Great! We've now get 4 tests that pass. Good woork!\n",
    "\n",
    "Next, we need to rebuild the server loop from our echo server for its new purpose as a web server:\n",
    "\n",
    "It should now wait for an incoming request to be *finished*, then send a response back to the client.\n",
    "\n",
    "The response it sends can be the result of calling our new `response_ok` function for now.\n",
    "\n",
    "We could also bump up the `recv` buffer size to something more reasonable for HTTP traffic, say 1024."
   ]
  },
  {
   "cell_type": "markdown",
   "metadata": {},
   "source": [
    "```\n",
    "# ...\n",
    "try:\n",
    "    while True:\n",
    "        print('waiting for a connection', file=log_buffer)\n",
    "        conn, addr = sock.accept()  # blocking\n",
    "        try:\n",
    "            print('connection - {0}:{1}'.format(*addr), file=log_buffer)\n",
    "            while True:\n",
    "                data = conn.recv(1024)\n",
    "                if len(data) < 1024:\n",
    "                    break\n",
    "            print('sending response', file=log_buffer)\n",
    "            response = response_ok()\n",
    "            conn.sendall(response)\n",
    "        finally:\n",
    "            conn.close()\n",
    "# ...\n",
    "```"
   ]
  },
  {
   "cell_type": "markdown",
   "metadata": {},
   "source": [
    "Once you've got that set, restart your server (`Ctrl-C`, and then `python http_server.py`)"
   ]
  },
  {
   "cell_type": "markdown",
   "metadata": {},
   "source": [
    "Then you can re-run your tests:\n",
    "```\n",
    "$ python tests.py\n",
    "[...]\n",
    "----------------------------------------------------------------------\n",
    "Ran 10 tests in 0.003s\n",
    "\n",
    "FAILED (failures=2, errors=3)\n",
    "```\n",
    "\n",
    "Five tests now pass!"
   ]
  },
  {
   "cell_type": "markdown",
   "metadata": {},
   "source": [
    "### Step 2: Handling HTTP Methods\n",
    "\n",
    "Every HTTP request must begin with a single line, broken by whitespace into three parts:\n",
    "\n",
    "`GET /path/to/index.html HTTP/1.1`\n",
    "\n",
    "The three parts are the *method*, the *URI*, and the *protocol*\n",
    "\n",
    "Let’s look at each in turn.\n",
    "\n",
    "**GET** /path/to/index.html HTTP/1.1\n",
    "\n",
    "  * Every HTTP request must start with a method\n",
    "  * There are four main HTTP methods:\n",
    "    * GET\n",
    "    * POST\n",
    "    * PUT\n",
    "    * DELETE\n",
    "  * There are others, notably HEAD, but you won’t see them too much\n",
    "\n",
    "These four methods are mapped to the four basic steps (CRUD) of persistent storage:\n",
    "\n",
    "  * POST = Create\n",
    "  * GET = Read\n",
    "  * PUT = Update\n",
    "  * DELETE = Delete\n",
    "\n",
    "HTTP methods can be categorized as **safe** or **unsafe**, based on whether they might change something on the server:\n",
    "\n",
    "  * Safe HTTP Methods\n",
    "    * GET\n",
    "  * Unsafe HTTP Methods\n",
    "    * POST\n",
    "    * PUT\n",
    "    * DELETE\n",
    "\n",
    "This is a *normative* distinction, which is to say **be careful**.\n",
    "\n",
    "HTTP methods can be categorized as **idempotent**.\n",
    "\n",
    "If a request is *idempotent*, then two, or three, or *n* of the same request in a row will have the same ultimate effect as just one of that request:\n",
    "\n",
    "  * Idempotent HTTP Methods\n",
    "    * GET\n",
    "    * PUT\n",
    "    * DELETE\n",
    "  * Non-Idempotent HTTP Methods\n",
    "    * POST\n",
    "    \n",
    "Again this distinction is *normative*. The server developer is responsible for ensuring that it is true.\n",
    "\n",
    "Let’s keep things simple, our server will only respond to GET requests.\n",
    "\n",
    "We need to create a function that parses a request and determines if we can respond to it: parse_request.\n",
    "\n",
    "If the request method is not GET, our method should raise an error.\n",
    "\n",
    "Remember, although a request is more than one line long, all we care about here is the first line.\n",
    "\n",
    "Let’s keep things simple, our server will only respond to GET requests.\n",
    "\n",
    "We need to create a function that parses a request and determines if we can respond to it: parse_request.\n",
    "\n",
    "If the request method is not GET, our method should raise an error.\n",
    "\n",
    "Remember, although a request is more than one line long, all we care about here is the first line.\n",
    "\n",
    "```\n",
    "def parse_request(request):\n",
    "    first_line = request.split(\"\\r\\n\", 1)[0]\n",
    "    method, uri, protocol = first_line.split()\n",
    "    if method != \"GET\":\n",
    "        raise NotImplementedError(\"We only accept GET\")\n",
    "    print('request is okay', file=sys.stderr)\n",
    "```\n",
    "\n",
    "We’ll also need to update the server code. It should\n",
    "\n",
    "  * save the request as it comes in\n",
    "  * check the request using our new function\n",
    "  * send an OK response if things go well\n",
    "  \n",
    "```\n",
    "# ...\n",
    "conn, addr = sock.accept() # blocking\n",
    "try:\n",
    "    print('connection - {0}:{1}'.format(*addr), file=log_buffer)\n",
    "    request = \"\"\n",
    "    while True:\n",
    "        data = conn.recv(1024)\n",
    "        request += data.decode('utf8')\n",
    "        if len(data) < 1024 or not data:\n",
    "            break\n",
    "\n",
    "    parse_request(request)\n",
    "    print('sending response', file=log_buffer)\n",
    "    response = response_ok()\n",
    "    conn.sendall(response)\n",
    "finally:\n",
    "    conn.close()\n",
    "# ...\n",
    "```\n",
    "\n",
    "Quit and restart your server now that you’ve updated the code:\n",
    "```\n",
    "$ python http_server.py\n",
    "```\n",
    "\n",
    "At this point, we should have seven tests passing:\n",
    "```\n",
    "$ python tests.py\n",
    "Ran 10 tests in 0.002s\n",
    "\n",
    "FAILED (failures=1, errors=2)\n",
    "```\n",
    "\n",
    "The server quit during the tests, but an HTTP request from the browser should work fine now.\n",
    "\n",
    "Restart the server and reload your browser. You should see your OK response.\n",
    "\n",
    "We can use the `simple_client.py` script in our resources to test our error condition. In a second terminal window, run the script like so:\n",
    "\n",
    "```\n",
    "$ python simple_client.py \"POST / HTTP/1.0\\r\\n\\r\\n\"\n",
    "```\n",
    "\n",
    "This should cause the server to crash."
   ]
  },
  {
   "cell_type": "markdown",
   "metadata": {},
   "source": [
    "### Step 3: Error Responses\n",
    "\n",
    "Okay, so the outcome there was pretty ugly. The client went off the rails, and our server has terminated as well.\n",
    "\n",
    "<center><b>why?</b></center>\n",
    "\n",
    "The HTTP protocol allows us to handle errors like this more gracefully.\n",
    "\n",
    "Enter the Response Code\n",
    "\n",
    "HTTP/1.1 <b>200 OK</b>\n",
    "\n",
    "All HTTP responses must include a **response code** indicating the outcome of the request. The general classes of response codes are:\n",
    "\n",
    "  * 1xx (HTTP 1.1 only) - Informational message\n",
    "  * 2xx - Success of some kind\n",
    "  * 3xx - Redirection of some kind\n",
    "  * 4xx - Client Error of some kind\n",
    "  * 5xx - Server Error of some kind\n",
    "\n",
    "The text bit makes the code more human-readable.\n",
    "\n",
    "There are certain HTTP response codes you are likely to see (and use) most often:\n",
    "\n",
    "  * `200 OK` - Everything is good\n",
    "  * `301 Moved Permanently` - You should update your link\n",
    "  * `304 Not Modified` - You should load this from cache\n",
    "  * `404 Not Found` - You’ve asked for something that doesn’t exist\n",
    "  * `500 Internal Server Error` - Something bad happened\n",
    "  \n",
    "Do not be afraid to use other, less common codes in building good apps. There are a lot of them for a reason.\n",
    "\n",
    "See http://www.w3.org/Protocols/rfc2616/rfc2616-sec10.html\n",
    "\n",
    "Luckily, there’s an error code that is tailor-made for this situation.\n",
    "\n",
    "The client has made a request using a method we do not support\n",
    "\n",
    "`405 Method Not Allowed`\n",
    "\n",
    "Let’s add a new function that returns this error code. It should be called response_method_not_allowed\n",
    "\n",
    "Remember, it must be a complete HTTP Response with the correct *code*\n",
    "```\n",
    "def response_method_not_allowed():\n",
    "    \"\"\"returns a 405 Method Not Allowed response\"\"\"\n",
    "    \n",
    "    response = b\"\\r\\n\".join([\n",
    "        b\"HTTP/1.1 405 Method Not Allowed\",\n",
    "        b\"\",\n",
    "    ])\n",
    "    \n",
    "    return response\n",
    "```\n",
    "\n",
    "Again, we’ll need to update the server to handle this error condition correctly. It should\n",
    "\n",
    "  * catch the exception raised by the `parse_request` function\n",
    "  * create our new error response as a result\n",
    "  * if no exception is raised, then create the OK response\n",
    "  * return the generated response to the user\n",
    "  \n",
    "```\n",
    "while True:\n",
    "    data = conn.recv(1024)\n",
    "    request += data.decode('utf8')\n",
    "    if len(data) < 1024:\n",
    "        break\n",
    "\n",
    "try:\n",
    "    parse_request(request)\n",
    "except NotImplementedError:\n",
    "    response = response_method_not_allowed()\n",
    "else:\n",
    "    response = response_ok()\n",
    "\n",
    "print('sending response', file=log_buffer)\n",
    "conn.sendall(response)\n",
    "# ...\n",
    "```\n",
    "\n",
    "Start your server (or restart it if it's still going!). Then run the tests again:\n",
    "\n",
    "```\n",
    "$ python tests.py\n",
    "[...]\n",
    "Ran 10 tests in 0.002s\n",
    "\n",
    "OK\n",
    "```\n",
    "\n",
    "Wahoo! All our tests are passing. This means we are done writing code...for now!"
   ]
  },
  {
   "cell_type": "markdown",
   "metadata": {},
   "source": [
    "### Step 4: Serving Resources\n",
    "\n",
    "We’ve got a very simple server that accepts a request and sends a response. But what happens if we make a different request?\n",
    "\n",
    "In your web browser, enter the following URL:\n",
    "\n",
    "```\n",
    "http://localhost:10000/page\n",
    "```\n",
    "\n",
    "What happened? What happens if you use this URL:?\n",
    "\n",
    "```\n",
    "http://localhost:10000/section/page?\n",
    "```\n",
    "\n",
    "We expect different urls to result in different responses.\n",
    "\n",
    "Each separate path provided should map to a resource\n",
    "\n",
    "But this isn’t happening with our server, for obvious reasons.\n",
    "\n",
    "It brings us back to the second element of that first line of an HTTP request."
   ]
  },
  {
   "cell_type": "markdown",
   "metadata": {},
   "source": [
    "#### The Return of the URI\n",
    "\n",
    "GET **/path/to/index.html** HTTP/1.1\n",
    "\n",
    "  * Every HTTP request must include a URI used to determine the resource to be returned\n",
    "  * URI?? http://stackoverflow.com/questions/176264/whats-the-difference-between-a-uri-and-a-url/1984225#1984225\n",
    "  * Resource? Files (html, img, .js, .css), but also:\n",
    "    * Dynamic scripts\n",
    "    * Raw data\n",
    "    * API endpoints\n",
    "Our parse_request method actually already finds the uri in the first line of a request\n",
    "\n",
    "All we need to do is update the method so that it returns that uri\n",
    "\n",
    "Then we can use it.\n",
    "```\n",
    "def parse_request(request):\n",
    "    first_line = request.split(\"\\r\\n\", 1)[0]\n",
    "    method, uri, protocol = first_line.split()\n",
    "    if method != \"GET\":\n",
    "        raise NotImplementedError(\"We only accept GET\")\n",
    "    print >>sys.stderr, 'request is okay'\n",
    "    # add the following line:\n",
    "    return uri\n",
    "```\n",
    "Now we can update our server code so that it uses the return value of parse_request.\n",
    "\n",
    "That’s a pretty simple change:\n",
    "```\n",
    "try:\n",
    "    uri = parse_request(request)  # update this line\n",
    "except NotImplementedError:\n",
    "    response = response_method_not_allowed()\n",
    "else:\n",
    "    # and modify this block\n",
    "    try:\n",
    "        content, mime_type = resolve_uri(url)\n",
    "    except NameError:\n",
    "        response = response_not_found()\n",
    "    else:\n",
    "        response = response_ok(content, mime_type)\n",
    "```"
   ]
  }
 ],
 "metadata": {
  "kernelspec": {
   "display_name": "Python 3",
   "language": "python",
   "name": "python3"
  },
  "language_info": {
   "codemirror_mode": {
    "name": "ipython",
    "version": 3
   },
   "file_extension": ".py",
   "mimetype": "text/x-python",
   "name": "python",
   "nbconvert_exporter": "python",
   "pygments_lexer": "ipython3",
   "version": "3.5.1"
  }
 },
 "nbformat": 4,
 "nbformat_minor": 0
}
